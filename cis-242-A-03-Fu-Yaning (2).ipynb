{
 "cells": [
  {
   "cell_type": "markdown",
   "metadata": {},
   "source": [
    "## The Universal Bank (Starter)"
   ]
  },
  {
   "cell_type": "markdown",
   "metadata": {},
   "source": [
    "Congratulations, Data Scientist!\n",
    "\n",
    "You have been hired by The Universal Bank, a bank which provides a wide variety of financial services beyond traditional banking.\n",
    "\n",
    "It's your first day, and you dig into the data, creating a data set of information on a sample of customer (5,000):\n",
    "\n",
    "`cis-242-assignment-03-the-universal-bank-data.csv`\n",
    "\n",
    "- `Age` - the customer's age (in years)\n",
    "- `Experience` - the customer's number of years of professional work experience\n",
    "- `Income` - The customer's annual income (in thousands of dollars)\n",
    "- `ZIP Code` - The zip code of the customer's home address\n",
    "- `Family` - The customer's family size\n",
    "- `CCAvg` - The customer's average spending on credit cards per month (in thousands of dollars)\n",
    "- `Education` - The customer's education level (1 = undergraduate, 2 = graduate, 3 = advanced/professional)\n",
    "- `Mortgage` - The value of the customer's house mortgage (if the customer owns a house) (in thousands of dollars)\n",
    "- `Personal Loan` - Did the customer accept a personal loan offered in our bank's last campaign? (1 = yes, 2 = no)\n",
    "- `Securities Account` - Does the customer have a securities (e.g., stocks, bonds, mutual funds, etc.) account with our bank? (1 = yes, 2 = no)\n",
    "- `CD Account` - Does the customer have a Certificate of Deposit (CD) account (pays a higher interest rate compared to a savings account; typically requires a larger balance and a no-withdrawal period) with our bank? (1 = yes, 2 = no)\n",
    "- `Online` - Does the customer engage with our banking services online? (1 = yes, 2 = no)\n",
    "- `CreditCard` - Does the customer use a credit card issued by our bank? (1 = yes, 2 = no)\n",
    "\n",
    "The Universal Bank's VP is old-school; despite being in a business that is all about numbers, the VP does not believe that a Data Scientist can add much value to the organization.\n",
    "\n",
    "Challenging you, he asks you to present your findings to the Senior Leadership team at the end of your first day.  The Senior Leadership Team is individually very smart about the domain of banking but collectively demonstrates an extreme lack of customer-centricity and technical understanding.\n",
    "\n",
    "- Part A - Think Like a Data Scientist (20 Points)\n",
    "- Part B - Code Like a Data Scientist (20 Points)\n",
    "- Part C - More Thinking Like a Data Scientist (20 Points)\n",
    "- Part D - More Coding Like a Data Scientist (20 Points)\n",
    "- Part E - Final Thoughts of a Data Scientist (20 Points)\n",
    "\n",
    "Your insights will be scored based on the accuracy, quality, and impact of your statements."
   ]
  },
  {
   "cell_type": "markdown",
   "metadata": {},
   "source": [
    "# Part A - Think Like a Data Scientist\n",
    "\n",
    "- In this part, answer the following questions using `markdown` in a JN markdown cell.\n",
    "- As needed, use Exploratory Data Analysis (EDA) by writing Python code in a JN code cell.\n",
    "- You may need to use both a markdown cell and a code cell combined in order to answer the question."
   ]
  },
  {
   "cell_type": "markdown",
   "metadata": {},
   "source": [
    "**Q1.** **How** would you *describe* the `Income` variable?"
   ]
  },
  {
   "cell_type": "markdown",
   "metadata": {},
   "source": [
    "Income is a continuous data type. A critical factor to assess customers for banking.\n",
    "\n",
    "**coun**t - The number of not-empty values. Count the frequency of each income number\n",
    "\n",
    "**mean** - The average income.\n",
    "\n",
    "**std** - The standard deviation of income, meaning the degree of diversifacation of the income value.\n",
    "\n",
    "**min** - the minimum value of income.\n",
    "\n",
    "**25%** - The lower 25% of income.\n",
    "\n",
    "**50%** - The median of income value.\n",
    "\n",
    "**75%** - The upper 75% of income value.\n",
    "\n",
    "**max** - the maximum value of income."
   ]
  },
  {
   "cell_type": "markdown",
   "metadata": {},
   "source": [
    "**Q2.** **How** would you *describe* the `Education` variable?"
   ]
  },
  {
   "cell_type": "markdown",
   "metadata": {},
   "source": [
    "\n",
    "Frequency: What is the number of people who are : undergraduate, graduate, advanced/professional"
   ]
  },
  {
   "cell_type": "markdown",
   "metadata": {},
   "source": [
    "**Q3:** **What** *relationship* do you expect between:\n",
    "- `Age` and `Experience` ?\n",
    "- `Age` and `Income` ?\n",
    "- `Age` and `Family` ?\n",
    "- `Age` and `CCAvg` ?"
   ]
  },
  {
   "cell_type": "markdown",
   "metadata": {},
   "source": [
    "\n",
    "\n",
    "Age and Experience are positively correlated. The older people are, the more experienced they will be.\n",
    "\n",
    "Age and Income can be either positively or negatively correlated. People might earn more as they get older because they are becoming more experienced or professional than young generations. However, they might earn less as well because some working positions prefer younger workers. Older people face the problem of retirement and staff reduction.\n",
    "\n",
    "The relationship between age and family is obscure. The family size will increase when people are at the age of getting married and having children. Nevertheless, the family size might decrease when people are so old that they pass away.\n",
    "\n",
    "The age and monthly credit card spending might be positively correlate during in a certain interval but become negatively correlated when people pass the interval age. People who are around 25-40 are most likely to spend more because they need to purchase house, car, education of children. However, people who are under or older than the age have less ability or demand to spend a lot of money."
   ]
  },
  {
   "cell_type": "markdown",
   "metadata": {},
   "source": [
    "**Q4:** **How** might the `ZIP Code` variable be *used* by The Universal Bank?"
   ]
  },
  {
   "cell_type": "markdown",
   "metadata": {},
   "source": [
    "\n",
    "\n",
    "ZIP Code shows the customers' purchasing power. For example, their states, cities, and areas. People who live in richer area, for instance, NYC, are expected to have more assessts and spend more using credit cards. In contrast, people who live in less developed cities are considered to be less likely to engage in financial services because they probably don't have that much money."
   ]
  },
  {
   "cell_type": "markdown",
   "metadata": {},
   "source": [
    "**Q5:** **How** might the `ZIP Code` variable be *misused* by The Universal Bank?"
   ]
  },
  {
   "cell_type": "markdown",
   "metadata": {},
   "source": [
    "\n",
    "There are probably rich people who reside in remote or less developed areas.\n",
    "\n",
    "ZIP Code might be mistakenly used as quantative data. However, the numbers are not continuous."
   ]
  },
  {
   "cell_type": "markdown",
   "metadata": {},
   "source": [
    "**Q6:** **List** three (3) questions (i.e., relationships) you *could explore* in the data that would have value to your Senior Leadership team."
   ]
  },
  {
   "cell_type": "markdown",
   "metadata": {},
   "source": [
    "\n",
    "\n",
    "a) Will people who have more income have larger amounts on CCAvg(monthly credit card spending)?\n",
    "\n",
    "b) Will people who burden mortgage spend more using credit card?\n",
    "\n",
    "c) Will people who burden personal loan spend less using credit card?"
   ]
  },
  {
   "cell_type": "markdown",
   "metadata": {},
   "source": [
    "The Senior Leadership Team wants you to explain how the average credit card spending (in `CCAvg`) changes with income (in `Income`)."
   ]
  },
  {
   "cell_type": "markdown",
   "metadata": {},
   "source": [
    "**Q7:** **What** *Machine Learning algorithm*, based on what we have learned so far, is best used to solve this problem?"
   ]
  },
  {
   "cell_type": "markdown",
   "metadata": {},
   "source": [
    "\n",
    "Linear Regression"
   ]
  },
  {
   "cell_type": "markdown",
   "metadata": {},
   "source": [
    "**Q8:** **Why** did you choose this algorithm?"
   ]
  },
  {
   "cell_type": "markdown",
   "metadata": {},
   "source": [
    "\n",
    "Linear Regression is used for predictive anaylysis that investigates the relationship between multiple variables.\n",
    "It uses continuous numbers.\n",
    "\n",
    "Income and CCavg are quantative variables, which fit into the linear regression."
   ]
  },
  {
   "cell_type": "markdown",
   "metadata": {},
   "source": [
    "# Part B - Code Like a Data Scientist"
   ]
  },
  {
   "cell_type": "markdown",
   "metadata": {},
   "source": [
    "**Action:** Set up your Python code."
   ]
  },
  {
   "cell_type": "code",
   "execution_count": 1,
   "metadata": {},
   "outputs": [],
   "source": [
    "# Your implementation:\n",
    "\n",
    "#import Pandas and Numpy for data manipulation\n",
    "import pandas as pd\n",
    "import numpy as np\n",
    "\n",
    "#import matplotlib and seaborn for data visualization\n",
    "import matplotlib.pyplot as plot\n",
    "import seaborn as sns\n",
    "\n",
    "#import Scikit-learn (for Data Pre-Processing and Linear Regression)\n",
    "from sklearn.model_selection import train_test_split\n",
    "from sklearn.linear_model import LinearRegression\n",
    "from sklearn import metrics\n",
    "from sklearn.linear_model import LogisticRegression\n",
    "from sklearn.metrics import accuracy_score\n",
    "\n",
    "# import StatsModels (for Regression Evaluation)\n",
    "import statsmodels.api as sm\n",
    "\n",
    "#Import Scikit-learn for one hot encoding\n",
    "from sklearn.preprocessing import OneHotEncoder\n",
    "from sklearn.compose import ColumnTransformer\n",
    "\n",
    "# ignore user warnings\n",
    "import warnings\n",
    "warnings.filterwarnings (\"ignore\", category = UserWarning)\n",
    "\n",
    "from tabulate import tabulate"
   ]
  },
  {
   "cell_type": "markdown",
   "metadata": {},
   "source": [
    "**Action:** Load the data."
   ]
  },
  {
   "cell_type": "code",
   "execution_count": 2,
   "metadata": {},
   "outputs": [],
   "source": [
    "# Your implementation:\n",
    "\n",
    "df = pd.read_csv('cis-242-assignment-03-the-universal-bank-data.csv')"
   ]
  },
  {
   "cell_type": "markdown",
   "metadata": {},
   "source": [
    "**Action:** Inspect the DataFrame.\n",
    "- Output the shape of the data (to see row and column dimensions).\n",
    "- Output the head (to see a sample of row and column data).\n",
    "- Output the info (to see column data types and missing value counts).\n",
    "- Output the describe (to see per-column summary statistics such as mean)."
   ]
  },
  {
   "cell_type": "code",
   "execution_count": 3,
   "metadata": {},
   "outputs": [
    {
     "name": "stdout",
     "output_type": "stream",
     "text": [
      "(5000, 13)\n",
      "\n",
      "\n",
      "   Age  Experience  Income  ZIP Code  Family  CCAvg      Education  Mortgage  \\\n",
      "0   25           1      49     91107       4    1.6  Undergraduate         0   \n",
      "1   45          19      34     90089       3    1.5  Undergraduate         0   \n",
      "2   39          15      11     94720       1    1.0  Undergraduate         0   \n",
      "3   67          41     112     91741       1    2.0  Undergraduate         0   \n",
      "4   42          18      81     94305       4    2.4  Undergraduate         0   \n",
      "\n",
      "   Personal Loan  Securities Account  CD Account  Online  CreditCard  \n",
      "0              0                   1           0       0           0  \n",
      "1              0                   1           0       0           0  \n",
      "2              0                   0           0       0           0  \n",
      "3              0                   1           0       0           0  \n",
      "4              0                   0           0       0           0  \n",
      "\n",
      "\n",
      "<class 'pandas.core.frame.DataFrame'>\n",
      "RangeIndex: 5000 entries, 0 to 4999\n",
      "Data columns (total 13 columns):\n",
      " #   Column              Non-Null Count  Dtype  \n",
      "---  ------              --------------  -----  \n",
      " 0   Age                 5000 non-null   int64  \n",
      " 1   Experience          5000 non-null   int64  \n",
      " 2   Income              5000 non-null   int64  \n",
      " 3   ZIP Code            5000 non-null   int64  \n",
      " 4   Family              5000 non-null   int64  \n",
      " 5   CCAvg               5000 non-null   float64\n",
      " 6   Education           5000 non-null   object \n",
      " 7   Mortgage            5000 non-null   int64  \n",
      " 8   Personal Loan       5000 non-null   int64  \n",
      " 9   Securities Account  5000 non-null   int64  \n",
      " 10  CD Account          5000 non-null   int64  \n",
      " 11  Online              5000 non-null   int64  \n",
      " 12  CreditCard          5000 non-null   int64  \n",
      "dtypes: float64(1), int64(11), object(1)\n",
      "memory usage: 507.9+ KB\n",
      "None\n",
      "\n",
      "\n",
      "               Age   Experience       Income      ZIP Code       Family  \\\n",
      "count  5000.000000  5000.000000  5000.000000   5000.000000  5000.000000   \n",
      "mean     45.338400    20.104600    73.774200  93152.503000     2.396400   \n",
      "std      11.463166    11.467954    46.033729   2121.852197     1.147663   \n",
      "min      23.000000    -3.000000     8.000000   9307.000000     1.000000   \n",
      "25%      35.000000    10.000000    39.000000  91911.000000     1.000000   \n",
      "50%      45.000000    20.000000    64.000000  93437.000000     2.000000   \n",
      "75%      55.000000    30.000000    98.000000  94608.000000     3.000000   \n",
      "max      67.000000    43.000000   224.000000  96651.000000     4.000000   \n",
      "\n",
      "             CCAvg     Mortgage  Personal Loan  Securities Account  \\\n",
      "count  5000.000000  5000.000000    5000.000000         5000.000000   \n",
      "mean      1.937913    56.498800       0.096000            0.104400   \n",
      "std       1.747666   101.713802       0.294621            0.305809   \n",
      "min       0.000000     0.000000       0.000000            0.000000   \n",
      "25%       0.700000     0.000000       0.000000            0.000000   \n",
      "50%       1.500000     0.000000       0.000000            0.000000   \n",
      "75%       2.500000   101.000000       0.000000            0.000000   \n",
      "max      10.000000   635.000000       1.000000            1.000000   \n",
      "\n",
      "       CD Account       Online   CreditCard  \n",
      "count  5000.00000  5000.000000  5000.000000  \n",
      "mean      0.06040     0.596800     0.294000  \n",
      "std       0.23825     0.490589     0.455637  \n",
      "min       0.00000     0.000000     0.000000  \n",
      "25%       0.00000     0.000000     0.000000  \n",
      "50%       0.00000     1.000000     0.000000  \n",
      "75%       0.00000     1.000000     1.000000  \n",
      "max       1.00000     1.000000     1.000000  \n"
     ]
    }
   ],
   "source": [
    "# Your implementation:\n",
    "\n",
    "#Output the shape\n",
    "print(df.shape)\n",
    "print()\n",
    "print()\n",
    "\n",
    "#Output the head\n",
    "print(df.head())\n",
    "print()\n",
    "print()\n",
    "\n",
    "#Output the info\n",
    "print(df.info())\n",
    "print()\n",
    "print()\n",
    "\n",
    "#Output the describe\n",
    "print(df.describe())"
   ]
  },
  {
   "cell_type": "markdown",
   "metadata": {},
   "source": [
    "**Action:** Create a heatmap to check for multi-collinearity."
   ]
  },
  {
   "cell_type": "code",
   "execution_count": 4,
   "metadata": {},
   "outputs": [
    {
     "data": {
      "text/html": [
       "<div>\n",
       "<style scoped>\n",
       "    .dataframe tbody tr th:only-of-type {\n",
       "        vertical-align: middle;\n",
       "    }\n",
       "\n",
       "    .dataframe tbody tr th {\n",
       "        vertical-align: top;\n",
       "    }\n",
       "\n",
       "    .dataframe thead th {\n",
       "        text-align: right;\n",
       "    }\n",
       "</style>\n",
       "<table border=\"1\" class=\"dataframe\">\n",
       "  <thead>\n",
       "    <tr style=\"text-align: right;\">\n",
       "      <th></th>\n",
       "      <th>Age</th>\n",
       "      <th>Experience</th>\n",
       "      <th>Income</th>\n",
       "      <th>ZIP Code</th>\n",
       "      <th>Family</th>\n",
       "      <th>CCAvg</th>\n",
       "      <th>Mortgage</th>\n",
       "      <th>Personal Loan</th>\n",
       "      <th>Securities Account</th>\n",
       "      <th>CD Account</th>\n",
       "      <th>Online</th>\n",
       "      <th>CreditCard</th>\n",
       "      <th>Education_Advanced/Professional</th>\n",
       "      <th>Education_Graduate</th>\n",
       "      <th>Education_Undergraduate</th>\n",
       "    </tr>\n",
       "  </thead>\n",
       "  <tbody>\n",
       "    <tr>\n",
       "      <th>Age</th>\n",
       "      <td>1.000000</td>\n",
       "      <td>0.994215</td>\n",
       "      <td>-0.055269</td>\n",
       "      <td>-0.029216</td>\n",
       "      <td>-0.046418</td>\n",
       "      <td>-0.052030</td>\n",
       "      <td>-0.012539</td>\n",
       "      <td>-0.007726</td>\n",
       "      <td>-0.000436</td>\n",
       "      <td>0.008043</td>\n",
       "      <td>0.013702</td>\n",
       "      <td>0.007681</td>\n",
       "      <td>0.045838</td>\n",
       "      <td>-0.016264</td>\n",
       "      <td>-0.027770</td>\n",
       "    </tr>\n",
       "    <tr>\n",
       "      <th>Experience</th>\n",
       "      <td>0.994215</td>\n",
       "      <td>1.000000</td>\n",
       "      <td>-0.046574</td>\n",
       "      <td>-0.028626</td>\n",
       "      <td>-0.052563</td>\n",
       "      <td>-0.050089</td>\n",
       "      <td>-0.010582</td>\n",
       "      <td>-0.007413</td>\n",
       "      <td>-0.001232</td>\n",
       "      <td>0.010353</td>\n",
       "      <td>0.013898</td>\n",
       "      <td>0.008967</td>\n",
       "      <td>0.020967</td>\n",
       "      <td>-0.018197</td>\n",
       "      <td>-0.002907</td>\n",
       "    </tr>\n",
       "    <tr>\n",
       "      <th>Income</th>\n",
       "      <td>-0.055269</td>\n",
       "      <td>-0.046574</td>\n",
       "      <td>1.000000</td>\n",
       "      <td>-0.016410</td>\n",
       "      <td>-0.157501</td>\n",
       "      <td>0.645993</td>\n",
       "      <td>0.206806</td>\n",
       "      <td>0.502462</td>\n",
       "      <td>-0.002616</td>\n",
       "      <td>0.169738</td>\n",
       "      <td>0.014206</td>\n",
       "      <td>-0.002385</td>\n",
       "      <td>-0.108878</td>\n",
       "      <td>-0.128364</td>\n",
       "      <td>0.218019</td>\n",
       "    </tr>\n",
       "    <tr>\n",
       "      <th>ZIP Code</th>\n",
       "      <td>-0.029216</td>\n",
       "      <td>-0.028626</td>\n",
       "      <td>-0.016410</td>\n",
       "      <td>1.000000</td>\n",
       "      <td>0.011778</td>\n",
       "      <td>-0.004068</td>\n",
       "      <td>0.007383</td>\n",
       "      <td>0.000107</td>\n",
       "      <td>0.004704</td>\n",
       "      <td>0.019972</td>\n",
       "      <td>0.016990</td>\n",
       "      <td>0.007691</td>\n",
       "      <td>-0.034123</td>\n",
       "      <td>0.037141</td>\n",
       "      <td>-0.002122</td>\n",
       "    </tr>\n",
       "    <tr>\n",
       "      <th>Family</th>\n",
       "      <td>-0.046418</td>\n",
       "      <td>-0.052563</td>\n",
       "      <td>-0.157501</td>\n",
       "      <td>0.011778</td>\n",
       "      <td>1.000000</td>\n",
       "      <td>-0.109285</td>\n",
       "      <td>-0.020445</td>\n",
       "      <td>0.061367</td>\n",
       "      <td>0.019994</td>\n",
       "      <td>0.014110</td>\n",
       "      <td>0.010354</td>\n",
       "      <td>0.011588</td>\n",
       "      <td>-0.008744</td>\n",
       "      <td>0.139201</td>\n",
       "      <td>-0.118628</td>\n",
       "    </tr>\n",
       "    <tr>\n",
       "      <th>CCAvg</th>\n",
       "      <td>-0.052030</td>\n",
       "      <td>-0.050089</td>\n",
       "      <td>0.645993</td>\n",
       "      <td>-0.004068</td>\n",
       "      <td>-0.109285</td>\n",
       "      <td>1.000000</td>\n",
       "      <td>0.109909</td>\n",
       "      <td>0.366891</td>\n",
       "      <td>0.015087</td>\n",
       "      <td>0.136537</td>\n",
       "      <td>-0.003620</td>\n",
       "      <td>-0.006686</td>\n",
       "      <td>-0.080419</td>\n",
       "      <td>-0.090382</td>\n",
       "      <td>0.156998</td>\n",
       "    </tr>\n",
       "    <tr>\n",
       "      <th>Mortgage</th>\n",
       "      <td>-0.012539</td>\n",
       "      <td>-0.010582</td>\n",
       "      <td>0.206806</td>\n",
       "      <td>0.007383</td>\n",
       "      <td>-0.020445</td>\n",
       "      <td>0.109909</td>\n",
       "      <td>1.000000</td>\n",
       "      <td>0.142095</td>\n",
       "      <td>-0.005411</td>\n",
       "      <td>0.089311</td>\n",
       "      <td>-0.005995</td>\n",
       "      <td>-0.007231</td>\n",
       "      <td>-0.014942</td>\n",
       "      <td>-0.031806</td>\n",
       "      <td>0.042841</td>\n",
       "    </tr>\n",
       "    <tr>\n",
       "      <th>Personal Loan</th>\n",
       "      <td>-0.007726</td>\n",
       "      <td>-0.007413</td>\n",
       "      <td>0.502462</td>\n",
       "      <td>0.000107</td>\n",
       "      <td>0.061367</td>\n",
       "      <td>0.366891</td>\n",
       "      <td>0.142095</td>\n",
       "      <td>1.000000</td>\n",
       "      <td>0.021954</td>\n",
       "      <td>0.316355</td>\n",
       "      <td>0.006278</td>\n",
       "      <td>0.002802</td>\n",
       "      <td>0.090212</td>\n",
       "      <td>0.071491</td>\n",
       "      <td>-0.148894</td>\n",
       "    </tr>\n",
       "    <tr>\n",
       "      <th>Securities Account</th>\n",
       "      <td>-0.000436</td>\n",
       "      <td>-0.001232</td>\n",
       "      <td>-0.002616</td>\n",
       "      <td>0.004704</td>\n",
       "      <td>0.019994</td>\n",
       "      <td>0.015087</td>\n",
       "      <td>-0.005411</td>\n",
       "      <td>0.021954</td>\n",
       "      <td>1.000000</td>\n",
       "      <td>0.317034</td>\n",
       "      <td>0.012627</td>\n",
       "      <td>-0.015028</td>\n",
       "      <td>-0.012421</td>\n",
       "      <td>0.005134</td>\n",
       "      <td>0.006863</td>\n",
       "    </tr>\n",
       "    <tr>\n",
       "      <th>CD Account</th>\n",
       "      <td>0.008043</td>\n",
       "      <td>0.010353</td>\n",
       "      <td>0.169738</td>\n",
       "      <td>0.019972</td>\n",
       "      <td>0.014110</td>\n",
       "      <td>0.136537</td>\n",
       "      <td>0.089311</td>\n",
       "      <td>0.316355</td>\n",
       "      <td>0.317034</td>\n",
       "      <td>1.000000</td>\n",
       "      <td>0.175880</td>\n",
       "      <td>0.278644</td>\n",
       "      <td>0.009780</td>\n",
       "      <td>0.006089</td>\n",
       "      <td>-0.014630</td>\n",
       "    </tr>\n",
       "    <tr>\n",
       "      <th>Online</th>\n",
       "      <td>0.013702</td>\n",
       "      <td>0.013898</td>\n",
       "      <td>0.014206</td>\n",
       "      <td>0.016990</td>\n",
       "      <td>0.010354</td>\n",
       "      <td>-0.003620</td>\n",
       "      <td>-0.005995</td>\n",
       "      <td>0.006278</td>\n",
       "      <td>0.012627</td>\n",
       "      <td>0.175880</td>\n",
       "      <td>1.000000</td>\n",
       "      <td>0.004210</td>\n",
       "      <td>-0.023837</td>\n",
       "      <td>0.020590</td>\n",
       "      <td>0.003394</td>\n",
       "    </tr>\n",
       "    <tr>\n",
       "      <th>CreditCard</th>\n",
       "      <td>0.007681</td>\n",
       "      <td>0.008967</td>\n",
       "      <td>-0.002385</td>\n",
       "      <td>0.007691</td>\n",
       "      <td>0.011588</td>\n",
       "      <td>-0.006686</td>\n",
       "      <td>-0.007231</td>\n",
       "      <td>0.002802</td>\n",
       "      <td>-0.015028</td>\n",
       "      <td>0.278644</td>\n",
       "      <td>0.004210</td>\n",
       "      <td>1.000000</td>\n",
       "      <td>-0.004113</td>\n",
       "      <td>-0.012196</td>\n",
       "      <td>0.014925</td>\n",
       "    </tr>\n",
       "    <tr>\n",
       "      <th>Education_Advanced/Professional</th>\n",
       "      <td>0.045838</td>\n",
       "      <td>0.020967</td>\n",
       "      <td>-0.108878</td>\n",
       "      <td>-0.034123</td>\n",
       "      <td>-0.008744</td>\n",
       "      <td>-0.080419</td>\n",
       "      <td>-0.014942</td>\n",
       "      <td>0.090212</td>\n",
       "      <td>-0.012421</td>\n",
       "      <td>0.009780</td>\n",
       "      <td>-0.023837</td>\n",
       "      <td>-0.004113</td>\n",
       "      <td>1.000000</td>\n",
       "      <td>-0.409051</td>\n",
       "      <td>-0.556437</td>\n",
       "    </tr>\n",
       "    <tr>\n",
       "      <th>Education_Graduate</th>\n",
       "      <td>-0.016264</td>\n",
       "      <td>-0.018197</td>\n",
       "      <td>-0.128364</td>\n",
       "      <td>0.037141</td>\n",
       "      <td>0.139201</td>\n",
       "      <td>-0.090382</td>\n",
       "      <td>-0.031806</td>\n",
       "      <td>0.071491</td>\n",
       "      <td>0.005134</td>\n",
       "      <td>0.006089</td>\n",
       "      <td>0.020590</td>\n",
       "      <td>-0.012196</td>\n",
       "      <td>-0.409051</td>\n",
       "      <td>1.000000</td>\n",
       "      <td>-0.530586</td>\n",
       "    </tr>\n",
       "    <tr>\n",
       "      <th>Education_Undergraduate</th>\n",
       "      <td>-0.027770</td>\n",
       "      <td>-0.002907</td>\n",
       "      <td>0.218019</td>\n",
       "      <td>-0.002122</td>\n",
       "      <td>-0.118628</td>\n",
       "      <td>0.156998</td>\n",
       "      <td>0.042841</td>\n",
       "      <td>-0.148894</td>\n",
       "      <td>0.006863</td>\n",
       "      <td>-0.014630</td>\n",
       "      <td>0.003394</td>\n",
       "      <td>0.014925</td>\n",
       "      <td>-0.556437</td>\n",
       "      <td>-0.530586</td>\n",
       "      <td>1.000000</td>\n",
       "    </tr>\n",
       "  </tbody>\n",
       "</table>\n",
       "</div>"
      ],
      "text/plain": [
       "                                      Age  Experience    Income  ZIP Code  \\\n",
       "Age                              1.000000    0.994215 -0.055269 -0.029216   \n",
       "Experience                       0.994215    1.000000 -0.046574 -0.028626   \n",
       "Income                          -0.055269   -0.046574  1.000000 -0.016410   \n",
       "ZIP Code                        -0.029216   -0.028626 -0.016410  1.000000   \n",
       "Family                          -0.046418   -0.052563 -0.157501  0.011778   \n",
       "CCAvg                           -0.052030   -0.050089  0.645993 -0.004068   \n",
       "Mortgage                        -0.012539   -0.010582  0.206806  0.007383   \n",
       "Personal Loan                   -0.007726   -0.007413  0.502462  0.000107   \n",
       "Securities Account              -0.000436   -0.001232 -0.002616  0.004704   \n",
       "CD Account                       0.008043    0.010353  0.169738  0.019972   \n",
       "Online                           0.013702    0.013898  0.014206  0.016990   \n",
       "CreditCard                       0.007681    0.008967 -0.002385  0.007691   \n",
       "Education_Advanced/Professional  0.045838    0.020967 -0.108878 -0.034123   \n",
       "Education_Graduate              -0.016264   -0.018197 -0.128364  0.037141   \n",
       "Education_Undergraduate         -0.027770   -0.002907  0.218019 -0.002122   \n",
       "\n",
       "                                   Family     CCAvg  Mortgage  Personal Loan  \\\n",
       "Age                             -0.046418 -0.052030 -0.012539      -0.007726   \n",
       "Experience                      -0.052563 -0.050089 -0.010582      -0.007413   \n",
       "Income                          -0.157501  0.645993  0.206806       0.502462   \n",
       "ZIP Code                         0.011778 -0.004068  0.007383       0.000107   \n",
       "Family                           1.000000 -0.109285 -0.020445       0.061367   \n",
       "CCAvg                           -0.109285  1.000000  0.109909       0.366891   \n",
       "Mortgage                        -0.020445  0.109909  1.000000       0.142095   \n",
       "Personal Loan                    0.061367  0.366891  0.142095       1.000000   \n",
       "Securities Account               0.019994  0.015087 -0.005411       0.021954   \n",
       "CD Account                       0.014110  0.136537  0.089311       0.316355   \n",
       "Online                           0.010354 -0.003620 -0.005995       0.006278   \n",
       "CreditCard                       0.011588 -0.006686 -0.007231       0.002802   \n",
       "Education_Advanced/Professional -0.008744 -0.080419 -0.014942       0.090212   \n",
       "Education_Graduate               0.139201 -0.090382 -0.031806       0.071491   \n",
       "Education_Undergraduate         -0.118628  0.156998  0.042841      -0.148894   \n",
       "\n",
       "                                 Securities Account  CD Account    Online  \\\n",
       "Age                                       -0.000436    0.008043  0.013702   \n",
       "Experience                                -0.001232    0.010353  0.013898   \n",
       "Income                                    -0.002616    0.169738  0.014206   \n",
       "ZIP Code                                   0.004704    0.019972  0.016990   \n",
       "Family                                     0.019994    0.014110  0.010354   \n",
       "CCAvg                                      0.015087    0.136537 -0.003620   \n",
       "Mortgage                                  -0.005411    0.089311 -0.005995   \n",
       "Personal Loan                              0.021954    0.316355  0.006278   \n",
       "Securities Account                         1.000000    0.317034  0.012627   \n",
       "CD Account                                 0.317034    1.000000  0.175880   \n",
       "Online                                     0.012627    0.175880  1.000000   \n",
       "CreditCard                                -0.015028    0.278644  0.004210   \n",
       "Education_Advanced/Professional           -0.012421    0.009780 -0.023837   \n",
       "Education_Graduate                         0.005134    0.006089  0.020590   \n",
       "Education_Undergraduate                    0.006863   -0.014630  0.003394   \n",
       "\n",
       "                                 CreditCard  Education_Advanced/Professional  \\\n",
       "Age                                0.007681                         0.045838   \n",
       "Experience                         0.008967                         0.020967   \n",
       "Income                            -0.002385                        -0.108878   \n",
       "ZIP Code                           0.007691                        -0.034123   \n",
       "Family                             0.011588                        -0.008744   \n",
       "CCAvg                             -0.006686                        -0.080419   \n",
       "Mortgage                          -0.007231                        -0.014942   \n",
       "Personal Loan                      0.002802                         0.090212   \n",
       "Securities Account                -0.015028                        -0.012421   \n",
       "CD Account                         0.278644                         0.009780   \n",
       "Online                             0.004210                        -0.023837   \n",
       "CreditCard                         1.000000                        -0.004113   \n",
       "Education_Advanced/Professional   -0.004113                         1.000000   \n",
       "Education_Graduate                -0.012196                        -0.409051   \n",
       "Education_Undergraduate            0.014925                        -0.556437   \n",
       "\n",
       "                                 Education_Graduate  Education_Undergraduate  \n",
       "Age                                       -0.016264                -0.027770  \n",
       "Experience                                -0.018197                -0.002907  \n",
       "Income                                    -0.128364                 0.218019  \n",
       "ZIP Code                                   0.037141                -0.002122  \n",
       "Family                                     0.139201                -0.118628  \n",
       "CCAvg                                     -0.090382                 0.156998  \n",
       "Mortgage                                  -0.031806                 0.042841  \n",
       "Personal Loan                              0.071491                -0.148894  \n",
       "Securities Account                         0.005134                 0.006863  \n",
       "CD Account                                 0.006089                -0.014630  \n",
       "Online                                     0.020590                 0.003394  \n",
       "CreditCard                                -0.012196                 0.014925  \n",
       "Education_Advanced/Professional           -0.409051                -0.556437  \n",
       "Education_Graduate                         1.000000                -0.530586  \n",
       "Education_Undergraduate                   -0.530586                 1.000000  "
      ]
     },
     "execution_count": 4,
     "metadata": {},
     "output_type": "execute_result"
    }
   ],
   "source": [
    "# Your implementation:\n",
    "\n",
    "# determine correlation DataFrame\n",
    "# Create Dummy vars for education\n",
    "df = pd.get_dummies(df)\n",
    "\n",
    "df_heat = df.corr()\n",
    "\n",
    "df_heat"
   ]
  },
  {
   "cell_type": "code",
   "execution_count": 5,
   "metadata": {},
   "outputs": [
    {
     "data": {
      "text/plain": [
       "<AxesSubplot:>"
      ]
     },
     "execution_count": 5,
     "metadata": {},
     "output_type": "execute_result"
    },
    {
     "data": {
      "image/png": "[encoded data removed]",
      "text/plain": [
       "<Figure size 2000x2000 with 2 Axes>"
      ]
     },
     "metadata": {},
     "output_type": "display_data"
    }
   ],
   "source": [
    "#Plot the heatmap using seaborn\n",
    "fig, ax = plot.subplots(figsize=(20, 20))\n",
    "sns.heatmap (df_heat, annot = True, cmap = \"coolwarm\")"
   ]
  },
  {
   "cell_type": "markdown",
   "metadata": {},
   "source": [
    "**Action:** Remove unneeded variables from the DataFrame."
   ]
  },
  {
   "cell_type": "code",
   "execution_count": 6,
   "metadata": {},
   "outputs": [],
   "source": [
    "# Your implementation:\n",
    "\n",
    "#Remove the variables\n",
    "featuresRemoved = []\n",
    "featuresRemoved.append('ZIP Code')\n",
    "featuresRemoved.append('Experience')\n",
    "featuresRemoved.append('Securities Account')\n",
    "featuresRemoved.append('Online')\n",
    "featuresRemoved.append('CreditCard')\n",
    "featuresRemoved.append('Age')\n",
    "\n",
    "#iterate over the list to access the removed features\n",
    "for features in featuresRemoved:\n",
    "    del df[features]"
   ]
  },
  {
   "cell_type": "markdown",
   "metadata": {},
   "source": [
    "**Action:** Output the head (to see a sample of row and column data)."
   ]
  },
  {
   "cell_type": "code",
   "execution_count": 7,
   "metadata": {},
   "outputs": [
    {
     "name": "stdout",
     "output_type": "stream",
     "text": [
      "   Income  Family  CCAvg  Mortgage  Personal Loan  CD Account  \\\n",
      "0      49       4    1.6         0              0           0   \n",
      "1      34       3    1.5         0              0           0   \n",
      "2      11       1    1.0         0              0           0   \n",
      "3     112       1    2.0         0              0           0   \n",
      "4      81       4    2.4         0              0           0   \n",
      "\n",
      "   Education_Advanced/Professional  Education_Graduate  \\\n",
      "0                                0                   0   \n",
      "1                                0                   0   \n",
      "2                                0                   0   \n",
      "3                                0                   0   \n",
      "4                                0                   0   \n",
      "\n",
      "   Education_Undergraduate  \n",
      "0                        1  \n",
      "1                        1  \n",
      "2                        1  \n",
      "3                        1  \n",
      "4                        1  \n"
     ]
    }
   ],
   "source": [
    "# Your implementation:\n",
    "\n",
    "#show the first five columns\n",
    "print(df.head())"
   ]
  },
  {
   "cell_type": "markdown",
   "metadata": {},
   "source": [
    "**Action:** Deal with any missing values.\n",
    "\n",
    "- Check for null values.\n",
    "- For any null value, either drop the data or replace the data with a meaningful number."
   ]
  },
  {
   "cell_type": "code",
   "execution_count": 48,
   "metadata": {},
   "outputs": [
    {
     "name": "stdout",
     "output_type": "stream",
     "text": [
      "Income                             0\n",
      "Family                             0\n",
      "CCAvg                              0\n",
      "Mortgage                           0\n",
      "Personal Loan                      0\n",
      "CD Account                         0\n",
      "Education_Advanced/Professional    0\n",
      "Education_Graduate                 0\n",
      "Education_Undergraduate            0\n",
      "dtype: int64\n"
     ]
    }
   ],
   "source": [
    "# Your implementation:\n",
    "\n",
    "#check for null values\n",
    "print(df.isnull().sum())\n",
    "\n",
    "#drop the missing value\n",
    "df.dropna(axis = 0, how = 'any', subset = None, inplace = True)"
   ]
  },
  {
   "cell_type": "markdown",
   "metadata": {},
   "source": [
    "**Action:** Create a scatterplot of `Income` (horizontal axis) vs. `CCAvg` (vertical axis)."
   ]
  },
  {
   "cell_type": "code",
   "execution_count": 9,
   "metadata": {},
   "outputs": [
    {
     "data": {
      "image/png": "[encoded data removed]",
      "text/plain": [
       "<Figure size 640x480 with 1 Axes>"
      ]
     },
     "metadata": {},
     "output_type": "display_data"
    }
   ],
   "source": [
    "# Your implementation:\n",
    "\n",
    "# Use matplotlib to create a scatterplot\n",
    "# Set x and y variable\n",
    "df.plot.scatter(x = 'Income', y = 'CCAvg')\n",
    "\n",
    "plot.xlabel = ('Income')\n",
    "plot.ylabel = ('CCAvg')\n",
    "plot.title = ('Income vs. CCAvg')"
   ]
  },
  {
   "cell_type": "markdown",
   "metadata": {},
   "source": [
    "**Action:** Set the X and y variables."
   ]
  },
  {
   "cell_type": "code",
   "execution_count": 10,
   "metadata": {},
   "outputs": [],
   "source": [
    "# Your implementation:\n",
    "\n",
    "#Set the x and y variables\n",
    "\n",
    "x = df[['Income']]\n",
    "\n",
    "y = df['CCAvg']"
   ]
  },
  {
   "cell_type": "markdown",
   "metadata": {},
   "source": [
    "**Action:** Split the training and test data."
   ]
  },
  {
   "cell_type": "code",
   "execution_count": 11,
   "metadata": {},
   "outputs": [],
   "source": [
    "# Your implementation:\n",
    "\n",
    "# create training (70%) and testing (30%) data\n",
    "x_train, x_test, y_train, y_test = train_test_split (x, y, test_size = 0.3, random_state = 10, shuffle = True)"
   ]
  },
  {
   "cell_type": "markdown",
   "metadata": {},
   "source": [
    "**Action:** Set the ML algorithm."
   ]
  },
  {
   "cell_type": "code",
   "execution_count": 12,
   "metadata": {},
   "outputs": [],
   "source": [
    "# Your implementation:\n",
    "\n",
    "# set the ML algorithm to create the model\n",
    "model = LinearRegression ()"
   ]
  },
  {
   "cell_type": "markdown",
   "metadata": {},
   "source": [
    "**Action:** Train the model."
   ]
  },
  {
   "cell_type": "code",
   "execution_count": 13,
   "metadata": {},
   "outputs": [
    {
     "data": {
      "text/plain": [
       "LinearRegression()"
      ]
     },
     "execution_count": 13,
     "metadata": {},
     "output_type": "execute_result"
    }
   ],
   "source": [
    "# Your implementation:\n",
    "\n",
    "model.fit (x_train, y_train)"
   ]
  },
  {
   "cell_type": "markdown",
   "metadata": {},
   "source": [
    "**Action:** Find the y-Intercept."
   ]
  },
  {
   "cell_type": "code",
   "execution_count": 14,
   "metadata": {},
   "outputs": [
    {
     "name": "stdout",
     "output_type": "stream",
     "text": [
      "0.14850906130374297\n"
     ]
    }
   ],
   "source": [
    "# Your implementation:\n",
    "\n",
    "print (model.intercept_)"
   ]
  },
  {
   "cell_type": "markdown",
   "metadata": {},
   "source": [
    "**Action:** Find the X coefficients."
   ]
  },
  {
   "cell_type": "code",
   "execution_count": 15,
   "metadata": {},
   "outputs": [
    {
     "name": "stdout",
     "output_type": "stream",
     "text": [
      "Index(['Income'], dtype='object')\n",
      "[0.0240394]\n"
     ]
    },
    {
     "data": {
      "text/html": [
       "<div>\n",
       "<style scoped>\n",
       "    .dataframe tbody tr th:only-of-type {\n",
       "        vertical-align: middle;\n",
       "    }\n",
       "\n",
       "    .dataframe tbody tr th {\n",
       "        vertical-align: top;\n",
       "    }\n",
       "\n",
       "    .dataframe thead th {\n",
       "        text-align: right;\n",
       "    }\n",
       "</style>\n",
       "<table border=\"1\" class=\"dataframe\">\n",
       "  <thead>\n",
       "    <tr style=\"text-align: right;\">\n",
       "      <th></th>\n",
       "      <th>Coefficients</th>\n",
       "    </tr>\n",
       "  </thead>\n",
       "  <tbody>\n",
       "    <tr>\n",
       "      <th>Income</th>\n",
       "      <td>0.024039</td>\n",
       "    </tr>\n",
       "  </tbody>\n",
       "</table>\n",
       "</div>"
      ],
      "text/plain": [
       "        Coefficients\n",
       "Income      0.024039"
      ]
     },
     "execution_count": 15,
     "metadata": {},
     "output_type": "execute_result"
    }
   ],
   "source": [
    "# Your implementation:\n",
    "\n",
    "print (x.columns)\n",
    "print (model.coef_)\n",
    "\n",
    "model_results = pd.DataFrame (model.coef_, x.columns, columns = [ \"Coefficients\" ] )\n",
    "model_results"
   ]
  },
  {
   "cell_type": "markdown",
   "metadata": {},
   "source": [
    "**Action:** Make some predictions based on the test data."
   ]
  },
  {
   "cell_type": "code",
   "execution_count": 16,
   "metadata": {},
   "outputs": [
    {
     "name": "stdout",
     "output_type": "stream",
     "text": [
      "\n",
      "+-------+\n",
      "| CCAvg |\n",
      "+-------+\n",
      "| $0.99 |\n",
      "| $3.56 |\n",
      "| $2.05 |\n",
      "| $0.99 |\n",
      "| $3.37 |\n",
      "| $2.99 |\n",
      "| $0.94 |\n",
      "| $2.41 |\n",
      "| $2.43 |\n",
      "| $2.10 |\n",
      "+-------+\n"
     ]
    }
   ],
   "source": [
    "# Your implementation:\n",
    "\n",
    "# create some test data (a list)\n",
    "\n",
    "prediction = model.predict (x_test)\n",
    "\n",
    "list_of_lists = []\n",
    "\n",
    "for p in range (10): # Get the first 10 x values for prediction\n",
    "\n",
    "    list_of_lists.append ( [ \"${:,.2f}\".format (prediction [p]) ] )\n",
    "    \n",
    "print ()\n",
    "print (tabulate ( list_of_lists, headers = [ 'CCAvg' ], tablefmt=\"pretty\" ) )"
   ]
  },
  {
   "cell_type": "markdown",
   "metadata": {},
   "source": [
    "**Action:** Evaluate the model."
   ]
  },
  {
   "cell_type": "code",
   "execution_count": 17,
   "metadata": {},
   "outputs": [
    {
     "name": "stdout",
     "output_type": "stream",
     "text": [
      "0.41705983261882684\n",
      "\n",
      "                                 OLS Regression Results                                \n",
      "=======================================================================================\n",
      "Dep. Variable:                  CCAvg   R-squared (uncentered):                   0.738\n",
      "Model:                            OLS   Adj. R-squared (uncentered):              0.738\n",
      "Method:                 Least Squares   F-statistic:                          1.408e+04\n",
      "Date:                Thu, 13 Apr 2023   Prob (F-statistic):                        0.00\n",
      "Time:                        16:05:53   Log-Likelihood:                         -8541.9\n",
      "No. Observations:                5000   AIC:                                  1.709e+04\n",
      "Df Residuals:                    4999   BIC:                                  1.709e+04\n",
      "Df Model:                           1                                                  \n",
      "Covariance Type:            nonrobust                                                  \n",
      "==============================================================================\n",
      "                 coef    std err          t      P>|t|      [0.025      0.975]\n",
      "------------------------------------------------------------------------------\n",
      "Income         0.0258      0.000    118.664      0.000       0.025       0.026\n",
      "==============================================================================\n",
      "Omnibus:                      165.935   Durbin-Watson:                   1.992\n",
      "Prob(Omnibus):                  0.000   Jarque-Bera (JB):              422.401\n",
      "Skew:                           0.121   Prob(JB):                     1.89e-92\n",
      "Kurtosis:                       4.403   Cond. No.                         1.00\n",
      "==============================================================================\n",
      "\n",
      "Notes:\n",
      "[1] R² is computed without centering (uncentered) since the model does not contain a constant.\n",
      "[2] Standard Errors assume that the covariance matrix of the errors is correctly specified.\n"
     ]
    }
   ],
   "source": [
    "# Your implementation:\n",
    "\n",
    "# calculate MAE\n",
    "prediction = model.predict (x_test)\n",
    "\n",
    "metrics.mean_absolute_error (y_test, prediction)\n",
    "\n",
    "# calcuate the coefficient of determination (R-squared)\n",
    "\n",
    "r_squared = model.score (x, y)\n",
    "\n",
    "print (r_squared)\n",
    "\n",
    "print ()\n",
    "\n",
    "results = sm.OLS (y, x).fit ()\n",
    "print (results.summary ())"
   ]
  },
  {
   "cell_type": "markdown",
   "metadata": {},
   "source": [
    "**Action:** Using your model, **predict** the average credit card spending for the following customer:\n",
    "\n",
    "- `Age` - 40\n",
    "- `Income` - 84\n",
    "- `Family` - 2\n",
    "- `CCAvg` - N/A (you are predicting this)\n",
    "- `Mortgage` - 0\n",
    "- `Personal Loan` - 0\n",
    "- `Securities Account` - 0\n",
    "- `CD Account` - 0\n",
    "- `Online` - 1\n",
    "- `CreditCard` - 1"
   ]
  },
  {
   "cell_type": "code",
   "execution_count": 18,
   "metadata": {},
   "outputs": [
    {
     "name": "stdout",
     "output_type": "stream",
     "text": [
      "[2.16781874]\n"
     ]
    }
   ],
   "source": [
    "# Your implementation:\n",
    "\n",
    "# first number = Income\n",
    "CCAvg_new = [84]\n",
    "CCAvg_Predict = model.predict([CCAvg_new])\n",
    "\n",
    "print(CCAvg_Predict)"
   ]
  },
  {
   "cell_type": "markdown",
   "metadata": {},
   "source": [
    "# Part C - More Thinking Like a Data Scientist\n",
    "\n",
    "- In this part, answer the following questions using `markdown` in a JN markdown cell.\n",
    "- As needed, use Exploratory Data Analysis (EDA) by writing Python code in a JN code cell.\n",
    "- You may need to use both a markdown cell and a code cell combined in order to answer the question."
   ]
  },
  {
   "cell_type": "markdown",
   "metadata": {},
   "source": [
    "**Q1:** **How** *strong* is the relationship in Part B?"
   ]
  },
  {
   "cell_type": "markdown",
   "metadata": {},
   "source": [
    "# Your markdown or code:\n",
    "The relationship is not as strong as I predicted. The coefficients are less than 0.5. It is not strong.\n"
   ]
  },
  {
   "cell_type": "markdown",
   "metadata": {},
   "source": [
    "**Q2:** **How** *good* is the model in Part B?"
   ]
  },
  {
   "cell_type": "markdown",
   "metadata": {},
   "source": [
    "# Your markdown or code:\n",
    "\n",
    "The model is good because the R squared is 0.739, meaning that approximately 74% of variance can be explained by the independent variable CCAvg."
   ]
  },
  {
   "cell_type": "markdown",
   "metadata": {},
   "source": [
    "The Senior Leadership Team wants you to explain **whether or not a customer will accept a personal loan**."
   ]
  },
  {
   "cell_type": "markdown",
   "metadata": {},
   "source": [
    "**Q3:** **What** *Machine Learning algorithm*, based on what we have learned so far, is best used to solve this problem?"
   ]
  },
  {
   "cell_type": "markdown",
   "metadata": {},
   "source": [
    "# Your markdown or code:\n",
    "\n",
    "Logistic Regression."
   ]
  },
  {
   "cell_type": "markdown",
   "metadata": {},
   "source": [
    "**Q4:** **Why** did you choose this algorithm?"
   ]
  },
  {
   "cell_type": "markdown",
   "metadata": {},
   "source": [
    "# Your markdown or code:\n",
    "\n",
    "because it is used for classfication that usually presents a binary problem."
   ]
  },
  {
   "cell_type": "markdown",
   "metadata": {},
   "source": [
    "# Part D - More Coding Like a Data Scientist"
   ]
  },
  {
   "cell_type": "markdown",
   "metadata": {},
   "source": [
    "**Action:** Re-load the data."
   ]
  },
  {
   "cell_type": "code",
   "execution_count": 19,
   "metadata": {},
   "outputs": [],
   "source": [
    "# Your implementation:\n",
    "\n",
    "df_new = pd.read_csv('cis-242-assignment-03-the-universal-bank-data.csv')"
   ]
  },
  {
   "cell_type": "markdown",
   "metadata": {},
   "source": [
    "**Action:** Output the value_counts for `Education`."
   ]
  },
  {
   "cell_type": "code",
   "execution_count": 20,
   "metadata": {},
   "outputs": [
    {
     "name": "stdout",
     "output_type": "stream",
     "text": [
      "Undergraduate            2096\n",
      "Advanced/Professional    1501\n",
      "Graduate                 1403\n",
      "Name: Education, dtype: int64\n"
     ]
    }
   ],
   "source": [
    "# Your implementation:\n",
    "\n",
    "#Get the value counts by accessing education in the dataframe\n",
    "\n",
    "print(df_new['Education'].value_counts())"
   ]
  },
  {
   "cell_type": "markdown",
   "metadata": {},
   "source": [
    "**Action:** Output the value_counts for `Personal Loan`."
   ]
  },
  {
   "cell_type": "code",
   "execution_count": 21,
   "metadata": {},
   "outputs": [
    {
     "name": "stdout",
     "output_type": "stream",
     "text": [
      "0    4520\n",
      "1     480\n",
      "Name: Personal Loan, dtype: int64\n"
     ]
    }
   ],
   "source": [
    "# Your implementation:\n",
    "\n",
    "#Get the value counts by accessing personal loan in the dataframe\n",
    "\n",
    "print(df_new['Personal Loan'].value_counts())"
   ]
  },
  {
   "cell_type": "markdown",
   "metadata": {},
   "source": [
    "**Action:** Output the value_counts for `Online`."
   ]
  },
  {
   "cell_type": "code",
   "execution_count": 22,
   "metadata": {},
   "outputs": [
    {
     "name": "stdout",
     "output_type": "stream",
     "text": [
      "1    2984\n",
      "0    2016\n",
      "Name: Online, dtype: int64\n"
     ]
    }
   ],
   "source": [
    "# Your implementation:\n",
    "\n",
    "#Get the value counts by accessing online in the dataframe\n",
    "print(df_new['Online'].value_counts())"
   ]
  },
  {
   "cell_type": "markdown",
   "metadata": {},
   "source": [
    "**Action:** Group the `Personal Loan` data."
   ]
  },
  {
   "cell_type": "code",
   "execution_count": 23,
   "metadata": {},
   "outputs": [],
   "source": [
    "# Your implementation:\n",
    "\n",
    "# Access the personal loan to groupby\n",
    "\n",
    "df_grouped = df_new.groupby('Personal Loan')"
   ]
  },
  {
   "cell_type": "markdown",
   "metadata": {},
   "source": [
    "**Action:** Output the mean values of the grouped data."
   ]
  },
  {
   "cell_type": "code",
   "execution_count": 24,
   "metadata": {},
   "outputs": [
    {
     "name": "stdout",
     "output_type": "stream",
     "text": [
      "                     Age  Experience      Income      ZIP Code    Family  \\\n",
      "Personal Loan                                                              \n",
      "0              45.367257   20.132301   66.237389  93152.428761  2.373451   \n",
      "1              45.066667   19.843750  144.745833  93153.202083  2.612500   \n",
      "\n",
      "                  CCAvg    Mortgage  Securities Account  CD Account    Online  \\\n",
      "Personal Loan                                                                   \n",
      "0              1.728982   51.789381            0.102212    0.035841  0.595796   \n",
      "1              3.905347  100.845833            0.125000    0.291667  0.606250   \n",
      "\n",
      "               CreditCard  \n",
      "Personal Loan              \n",
      "0                0.293584  \n",
      "1                0.297917  \n"
     ]
    }
   ],
   "source": [
    "# Your implementation:\n",
    "\n",
    "# Calculate the mean\n",
    "print(df_grouped.mean())"
   ]
  },
  {
   "cell_type": "markdown",
   "metadata": {},
   "source": [
    "**Action:** Output the median values of the grouped data."
   ]
  },
  {
   "cell_type": "code",
   "execution_count": 25,
   "metadata": {},
   "outputs": [
    {
     "name": "stdout",
     "output_type": "stream",
     "text": [
      "                Age  Experience  Income  ZIP Code  Family  CCAvg  Mortgage  \\\n",
      "Personal Loan                                                                \n",
      "0              45.0        20.0    59.0   93437.0     2.0    1.4       0.0   \n",
      "1              45.0        20.0   142.5   93407.0     3.0    3.8       0.0   \n",
      "\n",
      "               Securities Account  CD Account  Online  CreditCard  \n",
      "Personal Loan                                                      \n",
      "0                             0.0         0.0     1.0         0.0  \n",
      "1                             0.0         0.0     1.0         0.0  \n"
     ]
    }
   ],
   "source": [
    "# Your implementation:\n",
    "\n",
    "# Calculate the median\n",
    "print(df_grouped.median())"
   ]
  },
  {
   "cell_type": "markdown",
   "metadata": {},
   "source": [
    "**Action:** Convert the categorical `Education` variable into dummies using a prefix of \"edu\"."
   ]
  },
  {
   "cell_type": "code",
   "execution_count": 26,
   "metadata": {},
   "outputs": [
    {
     "name": "stdout",
     "output_type": "stream",
     "text": [
      "      edu_Advanced/Professional  edu_Graduate  edu_Undergraduate\n",
      "0                             0             0                  1\n",
      "1                             0             0                  1\n",
      "2                             0             0                  1\n",
      "3                             0             0                  1\n",
      "4                             0             0                  1\n",
      "...                         ...           ...                ...\n",
      "4995                          1             0                  0\n",
      "4996                          1             0                  0\n",
      "4997                          1             0                  0\n",
      "4998                          1             0                  0\n",
      "4999                          1             0                  0\n",
      "\n",
      "[5000 rows x 3 columns]\n"
     ]
    }
   ],
   "source": [
    "# Your implementation:\n",
    "\n",
    "# Create Dummy vars for education\n",
    "df_edu = pd.get_dummies(df_new['Education'], prefix = 'edu')\n",
    "\n",
    "print(df_edu)"
   ]
  },
  {
   "cell_type": "markdown",
   "metadata": {},
   "source": [
    "**Action:** Output the head of the dummies."
   ]
  },
  {
   "cell_type": "code",
   "execution_count": 27,
   "metadata": {},
   "outputs": [
    {
     "name": "stdout",
     "output_type": "stream",
     "text": [
      "   edu_Advanced/Professional  edu_Graduate  edu_Undergraduate\n",
      "0                          0             0                  1\n",
      "1                          0             0                  1\n",
      "2                          0             0                  1\n",
      "3                          0             0                  1\n",
      "4                          0             0                  1\n"
     ]
    }
   ],
   "source": [
    "# Your implementation:\n",
    "\n",
    "print(df_edu.head())"
   ]
  },
  {
   "cell_type": "markdown",
   "metadata": {},
   "source": [
    "**Action:** Remove the `Education` variable."
   ]
  },
  {
   "cell_type": "code",
   "execution_count": 28,
   "metadata": {},
   "outputs": [
    {
     "name": "stdout",
     "output_type": "stream",
     "text": [
      "      Age  Experience  Income  ZIP Code  Family  CCAvg  Mortgage  \\\n",
      "0      25           1      49     91107       4    1.6         0   \n",
      "1      45          19      34     90089       3    1.5         0   \n",
      "2      39          15      11     94720       1    1.0         0   \n",
      "3      67          41     112     91741       1    2.0         0   \n",
      "4      42          18      81     94305       4    2.4         0   \n",
      "...   ...         ...     ...       ...     ...    ...       ...   \n",
      "4995   55          25      58     95023       4    2.0       219   \n",
      "4996   30           5      13     90037       4    0.5         0   \n",
      "4997   64          40      75     94588       3    2.0         0   \n",
      "4998   29           3      40     92697       1    1.9         0   \n",
      "4999   63          39      24     93023       2    0.3         0   \n",
      "\n",
      "      Personal Loan  Securities Account  CD Account  Online  CreditCard  \n",
      "0                 0                   1           0       0           0  \n",
      "1                 0                   1           0       0           0  \n",
      "2                 0                   0           0       0           0  \n",
      "3                 0                   1           0       0           0  \n",
      "4                 0                   0           0       0           0  \n",
      "...             ...                 ...         ...     ...         ...  \n",
      "4995              0                   0           0       0           1  \n",
      "4996              0                   0           0       0           0  \n",
      "4997              0                   0           0       1           0  \n",
      "4998              0                   0           0       1           0  \n",
      "4999              0                   0           0       0           0  \n",
      "\n",
      "[5000 rows x 12 columns]\n"
     ]
    }
   ],
   "source": [
    "# Your implementation:\n",
    "\n",
    "# Delete the variable\n",
    "del df_new['Education']\n",
    "\n",
    "print(df_new)"
   ]
  },
  {
   "cell_type": "markdown",
   "metadata": {},
   "source": [
    "**Action:** Move the target variable `Personal Loan` to the first column."
   ]
  },
  {
   "cell_type": "code",
   "execution_count": 29,
   "metadata": {},
   "outputs": [],
   "source": [
    "# Your implementation:\n",
    "\n",
    "#insert the column\n",
    "column_moved = df_new.pop('Personal Loan')\n",
    "df_new.insert(0, 'Personal Loan', column_moved)"
   ]
  },
  {
   "cell_type": "markdown",
   "metadata": {},
   "source": [
    "**Action:** Join the \"edu_*\" variables to the DataFrame."
   ]
  },
  {
   "cell_type": "code",
   "execution_count": 30,
   "metadata": {},
   "outputs": [
    {
     "name": "stdout",
     "output_type": "stream",
     "text": [
      "      Personal Loan  Age  Experience  Income  ZIP Code  Family  CCAvg  \\\n",
      "0                 0   25           1      49     91107       4    1.6   \n",
      "1                 0   45          19      34     90089       3    1.5   \n",
      "2                 0   39          15      11     94720       1    1.0   \n",
      "3                 0   67          41     112     91741       1    2.0   \n",
      "4                 0   42          18      81     94305       4    2.4   \n",
      "...             ...  ...         ...     ...       ...     ...    ...   \n",
      "4995              0   55          25      58     95023       4    2.0   \n",
      "4996              0   30           5      13     90037       4    0.5   \n",
      "4997              0   64          40      75     94588       3    2.0   \n",
      "4998              0   29           3      40     92697       1    1.9   \n",
      "4999              0   63          39      24     93023       2    0.3   \n",
      "\n",
      "      Mortgage  Securities Account  CD Account  Online  CreditCard  \\\n",
      "0            0                   1           0       0           0   \n",
      "1            0                   1           0       0           0   \n",
      "2            0                   0           0       0           0   \n",
      "3            0                   1           0       0           0   \n",
      "4            0                   0           0       0           0   \n",
      "...        ...                 ...         ...     ...         ...   \n",
      "4995       219                   0           0       0           1   \n",
      "4996         0                   0           0       0           0   \n",
      "4997         0                   0           0       1           0   \n",
      "4998         0                   0           0       1           0   \n",
      "4999         0                   0           0       0           0   \n",
      "\n",
      "      edu_Advanced/Professional  edu_Graduate  edu_Undergraduate  \n",
      "0                             0             0                  1  \n",
      "1                             0             0                  1  \n",
      "2                             0             0                  1  \n",
      "3                             0             0                  1  \n",
      "4                             0             0                  1  \n",
      "...                         ...           ...                ...  \n",
      "4995                          1             0                  0  \n",
      "4996                          1             0                  0  \n",
      "4997                          1             0                  0  \n",
      "4998                          1             0                  0  \n",
      "4999                          1             0                  0  \n",
      "\n",
      "[5000 rows x 15 columns]\n"
     ]
    }
   ],
   "source": [
    "# Your implementation:\n",
    "\n",
    "df_new = pd.concat([df_new, df_edu], axis = 1)\n",
    "\n",
    "print(df_new)"
   ]
  },
  {
   "cell_type": "markdown",
   "metadata": {},
   "source": [
    "**Action:** Remove the last column from X."
   ]
  },
  {
   "cell_type": "code",
   "execution_count": 31,
   "metadata": {},
   "outputs": [],
   "source": [
    "# Your implementation:\n",
    "\n",
    "# The last column is credit card, drop it\n",
    "x = df_new.drop('CreditCard', axis=1)"
   ]
  },
  {
   "cell_type": "markdown",
   "metadata": {},
   "source": [
    "**Action:** Add an intercept value of 1.0 for all rows."
   ]
  },
  {
   "cell_type": "code",
   "execution_count": 32,
   "metadata": {},
   "outputs": [],
   "source": [
    "# Your implementation:\n",
    "# add an intercept value\n",
    "df_new [\"intercept\"] = 1.0"
   ]
  },
  {
   "cell_type": "markdown",
   "metadata": {},
   "source": [
    "**Action:** Output the head."
   ]
  },
  {
   "cell_type": "code",
   "execution_count": 33,
   "metadata": {},
   "outputs": [
    {
     "name": "stdout",
     "output_type": "stream",
     "text": [
      "   Personal Loan  Age  Experience  Income  ZIP Code  Family  CCAvg  Mortgage  \\\n",
      "0              0   25           1      49     91107       4    1.6         0   \n",
      "1              0   45          19      34     90089       3    1.5         0   \n",
      "2              0   39          15      11     94720       1    1.0         0   \n",
      "3              0   67          41     112     91741       1    2.0         0   \n",
      "4              0   42          18      81     94305       4    2.4         0   \n",
      "\n",
      "   Securities Account  CD Account  Online  edu_Advanced/Professional  \\\n",
      "0                   1           0       0                          0   \n",
      "1                   1           0       0                          0   \n",
      "2                   0           0       0                          0   \n",
      "3                   1           0       0                          0   \n",
      "4                   0           0       0                          0   \n",
      "\n",
      "   edu_Graduate  edu_Undergraduate  \n",
      "0             0                  1  \n",
      "1             0                  1  \n",
      "2             0                  1  \n",
      "3             0                  1  \n",
      "4             0                  1  \n"
     ]
    }
   ],
   "source": [
    "# Your implementation:\n",
    "\n",
    "print(x.head())"
   ]
  },
  {
   "cell_type": "markdown",
   "metadata": {},
   "source": [
    "**Action:** Set the y variable (i.e., the target)."
   ]
  },
  {
   "cell_type": "code",
   "execution_count": 34,
   "metadata": {},
   "outputs": [],
   "source": [
    "# Your implementation:\n",
    "\n",
    "y = df_new['Personal Loan']"
   ]
  },
  {
   "cell_type": "markdown",
   "metadata": {},
   "source": [
    "**Action:** Set the X variable (i.e., all the columns after the target variable)."
   ]
  },
  {
   "cell_type": "code",
   "execution_count": 35,
   "metadata": {},
   "outputs": [],
   "source": [
    "# Your implementation:\n",
    "\n",
    "# Access all columns\n",
    "x = df_new.iloc[:, 1:]"
   ]
  },
  {
   "cell_type": "markdown",
   "metadata": {},
   "source": [
    "**Action:** Split the training and test data."
   ]
  },
  {
   "cell_type": "code",
   "execution_count": 36,
   "metadata": {},
   "outputs": [],
   "source": [
    "# Your implementation:\n",
    "\n",
    "x_train, x_test, y_train, y_test = train_test_split(x, y, test_size=0.3, random_state=10)"
   ]
  },
  {
   "cell_type": "markdown",
   "metadata": {},
   "source": [
    "**Action:** Create an instance (object) of the StatsModels Logistic Regression Classifier class (Logit), passing in X and y."
   ]
  },
  {
   "cell_type": "code",
   "execution_count": 37,
   "metadata": {},
   "outputs": [],
   "source": [
    "# Your implementation:\n",
    "\n",
    "# Create an instance (object) of the StatsModels Logistic Regression Classifier class (Logit), passing in y and X.\n",
    "\n",
    "logit = sm.Logit (y, x)"
   ]
  },
  {
   "cell_type": "markdown",
   "metadata": {},
   "source": [
    "**Action:** Fit the data"
   ]
  },
  {
   "cell_type": "code",
   "execution_count": 38,
   "metadata": {},
   "outputs": [
    {
     "name": "stdout",
     "output_type": "stream",
     "text": [
      "Optimization terminated successfully.\n",
      "         Current function value: 0.117189\n",
      "         Iterations 9\n"
     ]
    }
   ],
   "source": [
    "# Your implementation:\n",
    "\n",
    "# Fit the data by calling Logit's fit() method.\n",
    "result = logit.fit()"
   ]
  },
  {
   "cell_type": "markdown",
   "metadata": {},
   "source": [
    "**Action:** View the results."
   ]
  },
  {
   "cell_type": "code",
   "execution_count": 39,
   "metadata": {},
   "outputs": [
    {
     "name": "stdout",
     "output_type": "stream",
     "text": [
      "                           Logit Regression Results                           \n",
      "==============================================================================\n",
      "Dep. Variable:          Personal Loan   No. Observations:                 5000\n",
      "Model:                          Logit   Df Residuals:                     4986\n",
      "Method:                           MLE   Df Model:                           13\n",
      "Date:                Thu, 13 Apr 2023   Pseudo R-squ.:                  0.6294\n",
      "Time:                        16:05:53   Log-Likelihood:                -585.94\n",
      "converged:                       True   LL-Null:                       -1581.0\n",
      "Covariance Type:            nonrobust   LLR p-value:                     0.000\n",
      "=============================================================================================\n",
      "                                coef    std err          z      P>|z|      [0.025      0.975]\n",
      "---------------------------------------------------------------------------------------------\n",
      "Age                          -0.0358      0.067     -0.533      0.594      -0.168       0.096\n",
      "Experience                    0.0449      0.067      0.672      0.502      -0.086       0.176\n",
      "Income                        0.0602      0.003     20.284      0.000       0.054       0.066\n",
      "ZIP Code                   -2.71e-05   4.13e-05     -0.656      0.512      -0.000    5.39e-05\n",
      "Family                        0.6185      0.077      8.026      0.000       0.467       0.770\n",
      "CCAvg                         0.1639      0.044      3.719      0.000       0.078       0.250\n",
      "Mortgage                      0.0007      0.001      1.191      0.234      -0.000       0.002\n",
      "Securities Account           -0.8699      0.300     -2.897      0.004      -1.458      -0.281\n",
      "CD Account                    3.8503      0.342     11.257      0.000       3.180       4.521\n",
      "Online                       -0.7611      0.166     -4.591      0.000      -1.086      -0.436\n",
      "CreditCard                   -1.0371      0.213     -4.869      0.000      -1.455      -0.620\n",
      "edu_Advanced/Professional    -0.3940        nan        nan        nan         nan         nan\n",
      "edu_Graduate                 -0.4862        nan        nan        nan         nan         nan\n",
      "edu_Undergraduate            -4.4578        nan        nan        nan         nan         nan\n",
      "intercept                    -5.3380        nan        nan        nan         nan         nan\n",
      "=============================================================================================\n",
      "\n",
      "Possibly complete quasi-separation: A fraction 0.11 of observations can be\n",
      "perfectly predicted. This might indicate that there is complete\n",
      "quasi-separation. In this case some parameters will not be identified.\n"
     ]
    }
   ],
   "source": [
    "# Your implementation:\n",
    "# Print the result summary\n",
    "\n",
    "print(result.summary ())\n"
   ]
  },
  {
   "cell_type": "markdown",
   "metadata": {},
   "source": [
    "**Action:** Take the exponent of the results."
   ]
  },
  {
   "cell_type": "code",
   "execution_count": 40,
   "metadata": {},
   "outputs": [
    {
     "name": "stdout",
     "output_type": "stream",
     "text": [
      "Age                           0.964792\n",
      "Experience                    1.045895\n",
      "Income                        1.062053\n",
      "ZIP Code                      0.999973\n",
      "Family                        1.856134\n",
      "CCAvg                         1.178122\n",
      "Mortgage                      1.000709\n",
      "Securities Account            0.418982\n",
      "CD Account                   47.007880\n",
      "Online                        0.467142\n",
      "CreditCard                    0.354489\n",
      "edu_Advanced/Professional     0.674348\n",
      "edu_Graduate                  0.614971\n",
      "edu_Undergraduate             0.011587\n",
      "intercept                     0.004805\n",
      "dtype: float64\n"
     ]
    }
   ],
   "source": [
    "# Your implementation:\n",
    "\n",
    "# Use the NumPy exp() function, passing in the result parameters.\n",
    "\n",
    "print (np.exp (result.params))"
   ]
  },
  {
   "cell_type": "markdown",
   "metadata": {},
   "source": [
    "**Action:** Create an instance (object) of the Scikit-Learn's LogisticRegression class, passing in the result parameters."
   ]
  },
  {
   "cell_type": "code",
   "execution_count": 41,
   "metadata": {},
   "outputs": [],
   "source": [
    "# Your implementation:\n",
    "\n",
    "# Create an instance (object) of the Scikit-learn's LogisticRegression class, passing in the result parameters.\n",
    "\n",
    "logisticRegression = LogisticRegression (C = 1e9, max_iter = 200)"
   ]
  },
  {
   "cell_type": "markdown",
   "metadata": {},
   "source": [
    "**Action:** Fit the model."
   ]
  },
  {
   "cell_type": "code",
   "execution_count": 42,
   "metadata": {},
   "outputs": [
    {
     "data": {
      "text/plain": [
       "LogisticRegression(C=1000000000.0, max_iter=200)"
      ]
     },
     "execution_count": 42,
     "metadata": {},
     "output_type": "execute_result"
    }
   ],
   "source": [
    "# Your implementation:\n",
    "\n",
    "# Fit the model to the training data\n",
    "\n",
    "logisticRegression.fit (x_train, y_train)"
   ]
  },
  {
   "cell_type": "markdown",
   "metadata": {},
   "source": [
    "**Action:** Create crosstabs for the y_train and y_test data, each showing the number of target values equal to 0 and 1, respectively."
   ]
  },
  {
   "cell_type": "code",
   "execution_count": 43,
   "metadata": {},
   "outputs": [
    {
     "data": {
      "text/html": [
       "<div>\n",
       "<style scoped>\n",
       "    .dataframe tbody tr th:only-of-type {\n",
       "        vertical-align: middle;\n",
       "    }\n",
       "\n",
       "    .dataframe tbody tr th {\n",
       "        vertical-align: top;\n",
       "    }\n",
       "\n",
       "    .dataframe thead th {\n",
       "        text-align: right;\n",
       "    }\n",
       "</style>\n",
       "<table border=\"1\" class=\"dataframe\">\n",
       "  <thead>\n",
       "    <tr style=\"text-align: right;\">\n",
       "      <th></th>\n",
       "      <th>Trained</th>\n",
       "      <th>Tested</th>\n",
       "    </tr>\n",
       "  </thead>\n",
       "  <tbody>\n",
       "    <tr>\n",
       "      <th>0</th>\n",
       "      <td>0.0</td>\n",
       "      <td>NaN</td>\n",
       "    </tr>\n",
       "    <tr>\n",
       "      <th>1</th>\n",
       "      <td>NaN</td>\n",
       "      <td>0.0</td>\n",
       "    </tr>\n",
       "    <tr>\n",
       "      <th>2</th>\n",
       "      <td>0.0</td>\n",
       "      <td>NaN</td>\n",
       "    </tr>\n",
       "    <tr>\n",
       "      <th>3</th>\n",
       "      <td>0.0</td>\n",
       "      <td>NaN</td>\n",
       "    </tr>\n",
       "    <tr>\n",
       "      <th>4</th>\n",
       "      <td>NaN</td>\n",
       "      <td>0.0</td>\n",
       "    </tr>\n",
       "    <tr>\n",
       "      <th>5</th>\n",
       "      <td>0.0</td>\n",
       "      <td>NaN</td>\n",
       "    </tr>\n",
       "    <tr>\n",
       "      <th>6</th>\n",
       "      <td>0.0</td>\n",
       "      <td>NaN</td>\n",
       "    </tr>\n",
       "    <tr>\n",
       "      <th>7</th>\n",
       "      <td>0.0</td>\n",
       "      <td>NaN</td>\n",
       "    </tr>\n",
       "    <tr>\n",
       "      <th>8</th>\n",
       "      <td>0.0</td>\n",
       "      <td>NaN</td>\n",
       "    </tr>\n",
       "    <tr>\n",
       "      <th>9</th>\n",
       "      <td>0.0</td>\n",
       "      <td>NaN</td>\n",
       "    </tr>\n",
       "  </tbody>\n",
       "</table>\n",
       "</div>"
      ],
      "text/plain": [
       "   Trained  Tested\n",
       "0      0.0     NaN\n",
       "1      NaN     0.0\n",
       "2      0.0     NaN\n",
       "3      0.0     NaN\n",
       "4      NaN     0.0\n",
       "5      0.0     NaN\n",
       "6      0.0     NaN\n",
       "7      0.0     NaN\n",
       "8      0.0     NaN\n",
       "9      0.0     NaN"
      ]
     },
     "execution_count": 43,
     "metadata": {},
     "output_type": "execute_result"
    }
   ],
   "source": [
    "# Your implementation:\n",
    "# compare the actual labels to the predicted values\n",
    "data = { \"Trained\": y_train, \"Tested\": y_test }\n",
    "dfCompare = pd.DataFrame (data)\n",
    "dfCompare.head(10)"
   ]
  },
  {
   "cell_type": "markdown",
   "metadata": {},
   "source": [
    "**Action:** Evaluate the accuracy of the model."
   ]
  },
  {
   "cell_type": "code",
   "execution_count": 44,
   "metadata": {},
   "outputs": [],
   "source": [
    "# Your implementation:\n",
    "# Use the predict() method on X_test.\n",
    "# Store the results in y_test_predictions.\n",
    "y_test_predictions = logisticRegression.predict (x_test)"
   ]
  },
  {
   "cell_type": "markdown",
   "metadata": {},
   "source": [
    "**Action:** Compare the actual labels to the predicted values."
   ]
  },
  {
   "cell_type": "code",
   "execution_count": 45,
   "metadata": {},
   "outputs": [
    {
     "name": "stdout",
     "output_type": "stream",
     "text": [
      "0.9113333333333333\n"
     ]
    }
   ],
   "source": [
    "# Your implementation:\n",
    "\n",
    "# Compare y_test to y_test_predictions by creating a new DataFrame with y_test in one column\n",
    "print (accuracy_score (y_test, y_test_predictions))\n",
    "# compare the actual labels to the predicted values\n",
    "\n",
    "data = { \"Actual\": y_test, \"Predicted\": y_test_predictions }\n",
    "dfCompare = pd.DataFrame (data)"
   ]
  },
  {
   "cell_type": "markdown",
   "metadata": {},
   "source": [
    "**Action:** Output the head for the comparison data."
   ]
  },
  {
   "cell_type": "code",
   "execution_count": 46,
   "metadata": {},
   "outputs": [
    {
     "data": {
      "text/html": [
       "<div>\n",
       "<style scoped>\n",
       "    .dataframe tbody tr th:only-of-type {\n",
       "        vertical-align: middle;\n",
       "    }\n",
       "\n",
       "    .dataframe tbody tr th {\n",
       "        vertical-align: top;\n",
       "    }\n",
       "\n",
       "    .dataframe thead th {\n",
       "        text-align: right;\n",
       "    }\n",
       "</style>\n",
       "<table border=\"1\" class=\"dataframe\">\n",
       "  <thead>\n",
       "    <tr style=\"text-align: right;\">\n",
       "      <th></th>\n",
       "      <th>Actual</th>\n",
       "      <th>Predicted</th>\n",
       "    </tr>\n",
       "  </thead>\n",
       "  <tbody>\n",
       "    <tr>\n",
       "      <th>245</th>\n",
       "      <td>0</td>\n",
       "      <td>0</td>\n",
       "    </tr>\n",
       "    <tr>\n",
       "      <th>4493</th>\n",
       "      <td>1</td>\n",
       "      <td>0</td>\n",
       "    </tr>\n",
       "    <tr>\n",
       "      <th>4583</th>\n",
       "      <td>0</td>\n",
       "      <td>0</td>\n",
       "    </tr>\n",
       "    <tr>\n",
       "      <th>2242</th>\n",
       "      <td>0</td>\n",
       "      <td>0</td>\n",
       "    </tr>\n",
       "    <tr>\n",
       "      <th>3407</th>\n",
       "      <td>1</td>\n",
       "      <td>0</td>\n",
       "    </tr>\n",
       "  </tbody>\n",
       "</table>\n",
       "</div>"
      ],
      "text/plain": [
       "      Actual  Predicted\n",
       "245        0          0\n",
       "4493       1          0\n",
       "4583       0          0\n",
       "2242       0          0\n",
       "3407       1          0"
      ]
     },
     "execution_count": 46,
     "metadata": {},
     "output_type": "execute_result"
    }
   ],
   "source": [
    "# Your implementation:\n",
    "\n",
    "dfCompare.head()"
   ]
  },
  {
   "cell_type": "markdown",
   "metadata": {},
   "source": [
    "**Action:** Output a confusion matrix as a crosstab."
   ]
  },
  {
   "cell_type": "code",
   "execution_count": 47,
   "metadata": {},
   "outputs": [
    {
     "data": {
      "text/html": [
       "<div>\n",
       "<style scoped>\n",
       "    .dataframe tbody tr th:only-of-type {\n",
       "        vertical-align: middle;\n",
       "    }\n",
       "\n",
       "    .dataframe tbody tr th {\n",
       "        vertical-align: top;\n",
       "    }\n",
       "\n",
       "    .dataframe thead th {\n",
       "        text-align: right;\n",
       "    }\n",
       "</style>\n",
       "<table border=\"1\" class=\"dataframe\">\n",
       "  <thead>\n",
       "    <tr style=\"text-align: right;\">\n",
       "      <th>Actual</th>\n",
       "      <th>0</th>\n",
       "      <th>1</th>\n",
       "    </tr>\n",
       "    <tr>\n",
       "      <th>Predicted</th>\n",
       "      <th></th>\n",
       "      <th></th>\n",
       "    </tr>\n",
       "  </thead>\n",
       "  <tbody>\n",
       "    <tr>\n",
       "      <th>0</th>\n",
       "      <td>0.880667</td>\n",
       "      <td>0.061333</td>\n",
       "    </tr>\n",
       "    <tr>\n",
       "      <th>1</th>\n",
       "      <td>0.027333</td>\n",
       "      <td>0.030667</td>\n",
       "    </tr>\n",
       "  </tbody>\n",
       "</table>\n",
       "</div>"
      ],
      "text/plain": [
       "Actual            0         1\n",
       "Predicted                    \n",
       "0          0.880667  0.061333\n",
       "1          0.027333  0.030667"
      ]
     },
     "execution_count": 47,
     "metadata": {},
     "output_type": "execute_result"
    }
   ],
   "source": [
    "# Your implementation:\n",
    "\n",
    "# Use Panda's crosstab() function to compare the actual and predicted values in the new DataFrame.\n",
    "\n",
    "pd.crosstab (dfCompare.Predicted, dfCompare.Actual, normalize = \"all\")"
   ]
  },
  {
   "cell_type": "markdown",
   "metadata": {},
   "source": [
    "# Part E - Final Thoughts of a Data Scientist\n",
    "\n",
    "- In this part, answer the following question using `markdown` in a JN markdown cell.\n",
    "\n",
    "    - **How would you interpret the results?**\n",
    "\n",
    "- Tell me three (3) insights based on your interpretation of the results.  Use complete sentences.\n",
    "- As needed, use Exploratory Data Analysis (EDA) by writing Python code in a JN code cell.\n",
    "- You may need to use both a markdown cell and a code cell combined in order to answer the question."
   ]
  },
  {
   "cell_type": "markdown",
   "metadata": {},
   "source": [
    "# Your markdown or code:\n",
    "\n",
    "When we predict the average monthly credit card expenditure, we applied **Income, Personal Loan, and CD Account** as the independent variables. The linear regression shows that **Personal Loan** contributes the most to the credit card expenditure with the coefficient of **0.2044. \n",
    "\n",
    "When we predict that the customer **does not** have a personal loan, the model is **right** for 88.1% of the time and **wrong** for 6.1% of the time.\n",
    "\n",
    "When we predict that the customer **does** have a personal loan, the model is right for 3.1% of the time and wrong for 2.7% of the time.\n",
    "\n",
    "To get our overall accuracy score (regardless of if predicting 0 or 1), we add the two numbers (for 0/0 - 0.881 and for 1/1 - 0.031) to get a final value of 0.912, or 91.2%."
   ]
  },
  {
   "cell_type": "markdown",
   "metadata": {},
   "source": [
    "Based on the negative case prediciton (**Customer does not have a personal loan**),94.2% (0.881+0.061) of the time that the customer dose not have a personal loan. \n",
    "\n",
    "From the regression test, we can know that income and credit card spending is positively correlated. Thus, we predict that our customers will spend more on the credit card if they have a higher income. The result is reliable because approximately 74% of the data can be explained by the linear regression model. Therefore, If we want to have financial services that push customers to spend **more** on credit card, our target customers will be people who earn more.\n",
    "\n",
    "We could potentially improve on this accuracy slightly by feeding the algorithm more data for testing, but don't expect huge results."
   ]
  }
 ],
 "metadata": {
  "kernelspec": {
   "display_name": "Python 3 (ipykernel)",
   "language": "python",
   "name": "python3"
  },
  "language_info": {
   "codemirror_mode": {
    "name": "ipython",
    "version": 3
   },
   "file_extension": ".py",
   "mimetype": "text/x-python",
   "name": "python",
   "nbconvert_exporter": "python",
   "pygments_lexer": "ipython3",
   "version": "3.9.13"
  },
  "nbclean": true
 },
 "nbformat": 4,
 "nbformat_minor": 1
}
